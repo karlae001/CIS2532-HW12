{
 "cells": [
  {
   "cell_type": "markdown",
   "id": "abf9c41c-64d0-41a9-b848-f9711fe1abee",
   "metadata": {},
   "source": [
    "**Author:** Kayla Bandy  \n",
    "**Date:** 12/6/22  \n",
    "**Assignment:** Week 12  \n",
    "**Program:** WK12Bandy_SQL1.ipynb  \n",
    "**Description:** Notebook for textbook exercise 17.2, to select all the data in the titles table and use description and fetchall from the Cursor method to display the data in tabular format."
   ]
  },
  {
   "cell_type": "code",
   "execution_count": 1,
   "id": "ab6374df-57fc-4fe8-bea2-0f33a7ed537a",
   "metadata": {},
   "outputs": [],
   "source": [
    "#Import needed libraries for SQL and dataset manipulation\n",
    "import sqlite3\n",
    "import pandas as pd"
   ]
  },
  {
   "cell_type": "code",
   "execution_count": 2,
   "id": "2bddd079-d754-47fc-8e9f-be40a6893a50",
   "metadata": {},
   "outputs": [],
   "source": [
    "#Create connection with existing database file, books.db\n",
    "connection = sqlite3.connect('books.db')"
   ]
  },
  {
   "cell_type": "code",
   "execution_count": 3,
   "id": "7ac47c9a-61c6-489c-8b26-2d2b2c22ce85",
   "metadata": {},
   "outputs": [],
   "source": [
    "#Set option\n",
    "pd.options.display.max_columns = 10"
   ]
  },
  {
   "cell_type": "code",
   "execution_count": 4,
   "id": "f32d5e3a-ec53-4eb2-b7e4-146f2947f899",
   "metadata": {},
   "outputs": [],
   "source": [
    "#Create cursor from the connection\n",
    "cursor = connection.cursor()"
   ]
  },
  {
   "cell_type": "code",
   "execution_count": 5,
   "id": "fe295734-d7ba-429e-919b-7bdad7f99c60",
   "metadata": {},
   "outputs": [],
   "source": [
    "#Select statement\n",
    "cursor = cursor.execute(\"\"\"SELECT * FROM titles\"\"\")"
   ]
  },
  {
   "cell_type": "code",
   "execution_count": 6,
   "id": "a913c48e-024c-421b-9bbe-efa200b8a075",
   "metadata": {},
   "outputs": [
    {
     "data": {
      "text/plain": [
       "(('isbn', None, None, None, None, None, None),\n",
       " ('title', None, None, None, None, None, None),\n",
       " ('edition', None, None, None, None, None, None),\n",
       " ('copyright', None, None, None, None, None, None))"
      ]
     },
     "execution_count": 6,
     "metadata": {},
     "output_type": "execute_result"
    }
   ],
   "source": [
    "#See metadata about columns in the titles table\n",
    "cursor.description"
   ]
  },
  {
   "cell_type": "code",
   "execution_count": 7,
   "id": "51f2a5db-45b3-49f2-bc00-f39a91e86810",
   "metadata": {},
   "outputs": [
    {
     "data": {
      "text/plain": [
       "[('0135404673', 'Intro to Python for CS and DS', 1, '2020'),\n",
       " ('0132151006', 'Internet & WWW How to Program', 5, '2012'),\n",
       " ('0134743350', 'Java How to Program', 11, '2018'),\n",
       " ('0133976890', 'C How to Program', 8, '2016'),\n",
       " ('0133406954', 'Visual Basic 2012 How to Program', 6, '2014'),\n",
       " ('0134601548', 'Visual C# How to Program', 6, '2017'),\n",
       " ('0136151574', 'Visual C++ How to Program', 2, '2008'),\n",
       " ('0134448235', 'C++ How to Program', 10, '2017'),\n",
       " ('0134444302', 'Android How to Program', 3, '2017'),\n",
       " ('0134289366', 'Android 6 for Programmers', 3, '2016')]"
      ]
     },
     "execution_count": 7,
     "metadata": {},
     "output_type": "execute_result"
    }
   ],
   "source": [
    "#Get the data from the titles table in a tabular format\n",
    "cursor.fetchall()"
   ]
  },
  {
   "cell_type": "code",
   "execution_count": 8,
   "id": "329f176c-2600-469d-89f3-03870e9afdda",
   "metadata": {},
   "outputs": [],
   "source": [
    "#Close the connection/close the database file\n",
    "connection.close()"
   ]
  }
 ],
 "metadata": {
  "kernelspec": {
   "display_name": "Python 3 (ipykernel)",
   "language": "python",
   "name": "python3"
  },
  "language_info": {
   "codemirror_mode": {
    "name": "ipython",
    "version": 3
   },
   "file_extension": ".py",
   "mimetype": "text/x-python",
   "name": "python",
   "nbconvert_exporter": "python",
   "pygments_lexer": "ipython3",
   "version": "3.9.12"
  }
 },
 "nbformat": 4,
 "nbformat_minor": 5
}
