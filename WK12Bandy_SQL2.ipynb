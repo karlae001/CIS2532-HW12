{
 "cells": [
  {
   "cell_type": "markdown",
   "id": "d68e6c4a-2f9b-45c0-a9b7-3810e8cc000f",
   "metadata": {},
   "source": [
    "**Author:** Kayla Bandy  \n",
    "**Date:** 12/6/22  \n",
    "**Assignment:** Week 12  \n",
    "**Program:** WK12Bandy_SQL2.ipynb  \n",
    "**Description:** Notebook for textbook exercise 17.1, to complete five exercises.  \n",
    "A. Select all authors' last names from the authors table in descending order.  \n",
    "B. Select all book titles from the titles table in ascending order.  \n",
    "C. Use an inner join to select all the books for a specific author. Include the title, copyright year, and ISBN. Order the information alphabetically by title.  \n",
    "D. Insert a new author into the authors table.  \n",
    "E. Insert a new title for an author. Remember that the book must have an entry in the author_ISBN table and an entry in the titles table."
   ]
  },
  {
   "cell_type": "code",
   "execution_count": 1,
   "id": "ab6374df-57fc-4fe8-bea2-0f33a7ed537a",
   "metadata": {},
   "outputs": [],
   "source": [
    "#Import needed libraries for SQL and dataset manipulation\n",
    "import sqlite3\n",
    "import pandas as pd"
   ]
  },
  {
   "cell_type": "code",
   "execution_count": 2,
   "id": "2bddd079-d754-47fc-8e9f-be40a6893a50",
   "metadata": {},
   "outputs": [],
   "source": [
    "#Create connection with existing database file, books.db\n",
    "connection = sqlite3.connect('books.db')"
   ]
  },
  {
   "cell_type": "code",
   "execution_count": 3,
   "id": "7ac47c9a-61c6-489c-8b26-2d2b2c22ce85",
   "metadata": {},
   "outputs": [],
   "source": [
    "#Set option\n",
    "pd.options.display.max_columns = 10"
   ]
  },
  {
   "cell_type": "markdown",
   "id": "59947373-70b8-44bf-b5dd-9247bd091c66",
   "metadata": {},
   "source": [
    "#### A. Select all authors' last names from the authors table in descending order."
   ]
  },
  {
   "cell_type": "code",
   "execution_count": 4,
   "id": "41d34bba-31eb-430a-9a6a-b5352046c626",
   "metadata": {},
   "outputs": [
    {
     "data": {
      "text/html": [
       "<div>\n",
       "<style scoped>\n",
       "    .dataframe tbody tr th:only-of-type {\n",
       "        vertical-align: middle;\n",
       "    }\n",
       "\n",
       "    .dataframe tbody tr th {\n",
       "        vertical-align: top;\n",
       "    }\n",
       "\n",
       "    .dataframe thead th {\n",
       "        text-align: right;\n",
       "    }\n",
       "</style>\n",
       "<table border=\"1\" class=\"dataframe\">\n",
       "  <thead>\n",
       "    <tr style=\"text-align: right;\">\n",
       "      <th></th>\n",
       "      <th>last</th>\n",
       "    </tr>\n",
       "  </thead>\n",
       "  <tbody>\n",
       "    <tr>\n",
       "      <th>0</th>\n",
       "      <td>Wald</td>\n",
       "    </tr>\n",
       "    <tr>\n",
       "      <th>1</th>\n",
       "      <td>Quirk</td>\n",
       "    </tr>\n",
       "    <tr>\n",
       "      <th>2</th>\n",
       "      <td>Deitel</td>\n",
       "    </tr>\n",
       "    <tr>\n",
       "      <th>3</th>\n",
       "      <td>Deitel</td>\n",
       "    </tr>\n",
       "    <tr>\n",
       "      <th>4</th>\n",
       "      <td>Deitel</td>\n",
       "    </tr>\n",
       "  </tbody>\n",
       "</table>\n",
       "</div>"
      ],
      "text/plain": [
       "     last\n",
       "0    Wald\n",
       "1   Quirk\n",
       "2  Deitel\n",
       "3  Deitel\n",
       "4  Deitel"
      ]
     },
     "execution_count": 4,
     "metadata": {},
     "output_type": "execute_result"
    }
   ],
   "source": [
    "#Select statement\n",
    "pd.read_sql(\"\"\"SELECT last \n",
    "            FROM authors \n",
    "            ORDER BY last DESC\"\"\",\n",
    "            connection)"
   ]
  },
  {
   "cell_type": "markdown",
   "id": "06b46d84-a79f-4488-857d-ce46138b4d4f",
   "metadata": {},
   "source": [
    "#### B. Select all book titles from the titles table in ascending order."
   ]
  },
  {
   "cell_type": "code",
   "execution_count": 5,
   "id": "6be62221-e999-42d4-86f2-8ee9b218d463",
   "metadata": {},
   "outputs": [
    {
     "data": {
      "text/html": [
       "<div>\n",
       "<style scoped>\n",
       "    .dataframe tbody tr th:only-of-type {\n",
       "        vertical-align: middle;\n",
       "    }\n",
       "\n",
       "    .dataframe tbody tr th {\n",
       "        vertical-align: top;\n",
       "    }\n",
       "\n",
       "    .dataframe thead th {\n",
       "        text-align: right;\n",
       "    }\n",
       "</style>\n",
       "<table border=\"1\" class=\"dataframe\">\n",
       "  <thead>\n",
       "    <tr style=\"text-align: right;\">\n",
       "      <th></th>\n",
       "      <th>title</th>\n",
       "    </tr>\n",
       "  </thead>\n",
       "  <tbody>\n",
       "    <tr>\n",
       "      <th>0</th>\n",
       "      <td>Android 6 for Programmers</td>\n",
       "    </tr>\n",
       "    <tr>\n",
       "      <th>1</th>\n",
       "      <td>Android How to Program</td>\n",
       "    </tr>\n",
       "    <tr>\n",
       "      <th>2</th>\n",
       "      <td>C How to Program</td>\n",
       "    </tr>\n",
       "    <tr>\n",
       "      <th>3</th>\n",
       "      <td>C++ How to Program</td>\n",
       "    </tr>\n",
       "    <tr>\n",
       "      <th>4</th>\n",
       "      <td>Internet &amp; WWW How to Program</td>\n",
       "    </tr>\n",
       "    <tr>\n",
       "      <th>5</th>\n",
       "      <td>Intro to Python for CS and DS</td>\n",
       "    </tr>\n",
       "    <tr>\n",
       "      <th>6</th>\n",
       "      <td>Java How to Program</td>\n",
       "    </tr>\n",
       "    <tr>\n",
       "      <th>7</th>\n",
       "      <td>Visual Basic 2012 How to Program</td>\n",
       "    </tr>\n",
       "    <tr>\n",
       "      <th>8</th>\n",
       "      <td>Visual C# How to Program</td>\n",
       "    </tr>\n",
       "    <tr>\n",
       "      <th>9</th>\n",
       "      <td>Visual C++ How to Program</td>\n",
       "    </tr>\n",
       "  </tbody>\n",
       "</table>\n",
       "</div>"
      ],
      "text/plain": [
       "                              title\n",
       "0         Android 6 for Programmers\n",
       "1            Android How to Program\n",
       "2                  C How to Program\n",
       "3                C++ How to Program\n",
       "4     Internet & WWW How to Program\n",
       "5     Intro to Python for CS and DS\n",
       "6               Java How to Program\n",
       "7  Visual Basic 2012 How to Program\n",
       "8          Visual C# How to Program\n",
       "9         Visual C++ How to Program"
      ]
     },
     "execution_count": 5,
     "metadata": {},
     "output_type": "execute_result"
    }
   ],
   "source": [
    "#Select statement\n",
    "pd.read_sql(\"\"\"SELECT title \n",
    "            FROM titles \n",
    "            ORDER BY title\"\"\",\n",
    "            connection)"
   ]
  },
  {
   "cell_type": "markdown",
   "id": "d73ad5a5-5d3a-472f-85d4-af20ee6659e8",
   "metadata": {},
   "source": [
    "#### C. Use an inner join to select all the books for a specific author. Include the title, copyright year, and ISBN. Order the information alphabetically by title."
   ]
  },
  {
   "cell_type": "code",
   "execution_count": 6,
   "id": "3cbaa01f-2282-4014-9b32-7afa12a9b060",
   "metadata": {},
   "outputs": [
    {
     "data": {
      "text/html": [
       "<div>\n",
       "<style scoped>\n",
       "    .dataframe tbody tr th:only-of-type {\n",
       "        vertical-align: middle;\n",
       "    }\n",
       "\n",
       "    .dataframe tbody tr th {\n",
       "        vertical-align: top;\n",
       "    }\n",
       "\n",
       "    .dataframe thead th {\n",
       "        text-align: right;\n",
       "    }\n",
       "</style>\n",
       "<table border=\"1\" class=\"dataframe\">\n",
       "  <thead>\n",
       "    <tr style=\"text-align: right;\">\n",
       "      <th></th>\n",
       "      <th>title</th>\n",
       "      <th>copyright</th>\n",
       "      <th>isbn</th>\n",
       "      <th>Author First</th>\n",
       "      <th>Author Last</th>\n",
       "    </tr>\n",
       "  </thead>\n",
       "  <tbody>\n",
       "    <tr>\n",
       "      <th>0</th>\n",
       "      <td>Internet &amp; WWW How to Program</td>\n",
       "      <td>2012</td>\n",
       "      <td>0132151006</td>\n",
       "      <td>Abbey</td>\n",
       "      <td>Deitel</td>\n",
       "    </tr>\n",
       "    <tr>\n",
       "      <th>1</th>\n",
       "      <td>Visual Basic 2012 How to Program</td>\n",
       "      <td>2014</td>\n",
       "      <td>0133406954</td>\n",
       "      <td>Abbey</td>\n",
       "      <td>Deitel</td>\n",
       "    </tr>\n",
       "  </tbody>\n",
       "</table>\n",
       "</div>"
      ],
      "text/plain": [
       "                              title copyright        isbn Author First  \\\n",
       "0     Internet & WWW How to Program      2012  0132151006        Abbey   \n",
       "1  Visual Basic 2012 How to Program      2014  0133406954        Abbey   \n",
       "\n",
       "  Author Last  \n",
       "0      Deitel  \n",
       "1      Deitel  "
      ]
     },
     "execution_count": 6,
     "metadata": {},
     "output_type": "execute_result"
    }
   ],
   "source": [
    "#Select statement\n",
    "pd.read_sql(\"\"\"SELECT title, copyright, c.ISBN\n",
    "            , a.first AS 'Author First', a.last AS 'Author Last'\n",
    "            FROM authors a\n",
    "            INNER JOIN author_ISBN b ON a.ID = b.ID\n",
    "            INNER JOIN titles c ON b.ISBN = c.ISBN\n",
    "            WHERE first = 'Abbey' AND last = 'Deitel'\n",
    "            ORDER BY title\"\"\",\n",
    "            connection)"
   ]
  },
  {
   "cell_type": "markdown",
   "id": "bb736eb6-0671-44dd-b320-ab956ab90561",
   "metadata": {},
   "source": [
    "#### D. Insert a new author into the authors table."
   ]
  },
  {
   "cell_type": "code",
   "execution_count": 7,
   "id": "f32d5e3a-ec53-4eb2-b7e4-146f2947f899",
   "metadata": {},
   "outputs": [],
   "source": [
    "#Create cursor from the connection\n",
    "cursor = connection.cursor()"
   ]
  },
  {
   "cell_type": "code",
   "execution_count": 8,
   "id": "fe295734-d7ba-429e-919b-7bdad7f99c60",
   "metadata": {},
   "outputs": [],
   "source": [
    "#Insert statement\n",
    "cursor = cursor.execute(\"\"\" INSERT INTO authors (first, last)\n",
    "                        VALUES('J.K.', 'Rowling')\"\"\")"
   ]
  },
  {
   "cell_type": "code",
   "execution_count": 9,
   "id": "00f11f61-0693-44c7-8097-4c8e21945255",
   "metadata": {},
   "outputs": [
    {
     "data": {
      "text/html": [
       "<div>\n",
       "<style scoped>\n",
       "    .dataframe tbody tr th:only-of-type {\n",
       "        vertical-align: middle;\n",
       "    }\n",
       "\n",
       "    .dataframe tbody tr th {\n",
       "        vertical-align: top;\n",
       "    }\n",
       "\n",
       "    .dataframe thead th {\n",
       "        text-align: right;\n",
       "    }\n",
       "</style>\n",
       "<table border=\"1\" class=\"dataframe\">\n",
       "  <thead>\n",
       "    <tr style=\"text-align: right;\">\n",
       "      <th></th>\n",
       "      <th>id</th>\n",
       "      <th>first</th>\n",
       "      <th>last</th>\n",
       "    </tr>\n",
       "  </thead>\n",
       "  <tbody>\n",
       "    <tr>\n",
       "      <th>0</th>\n",
       "      <td>1</td>\n",
       "      <td>Paul</td>\n",
       "      <td>Deitel</td>\n",
       "    </tr>\n",
       "    <tr>\n",
       "      <th>1</th>\n",
       "      <td>2</td>\n",
       "      <td>Harvey</td>\n",
       "      <td>Deitel</td>\n",
       "    </tr>\n",
       "    <tr>\n",
       "      <th>2</th>\n",
       "      <td>3</td>\n",
       "      <td>Abbey</td>\n",
       "      <td>Deitel</td>\n",
       "    </tr>\n",
       "    <tr>\n",
       "      <th>3</th>\n",
       "      <td>4</td>\n",
       "      <td>Dan</td>\n",
       "      <td>Quirk</td>\n",
       "    </tr>\n",
       "    <tr>\n",
       "      <th>4</th>\n",
       "      <td>5</td>\n",
       "      <td>Alexander</td>\n",
       "      <td>Wald</td>\n",
       "    </tr>\n",
       "    <tr>\n",
       "      <th>5</th>\n",
       "      <td>6</td>\n",
       "      <td>J.K.</td>\n",
       "      <td>Rowling</td>\n",
       "    </tr>\n",
       "  </tbody>\n",
       "</table>\n",
       "</div>"
      ],
      "text/plain": [
       "   id      first     last\n",
       "0   1       Paul   Deitel\n",
       "1   2     Harvey   Deitel\n",
       "2   3      Abbey   Deitel\n",
       "3   4        Dan    Quirk\n",
       "4   5  Alexander     Wald\n",
       "5   6       J.K.  Rowling"
      ]
     },
     "execution_count": 9,
     "metadata": {},
     "output_type": "execute_result"
    }
   ],
   "source": [
    "#Select statement to check what was inserted\n",
    "pd.read_sql(\"\"\"SELECT *\n",
    "            FROM authors\"\"\",\n",
    "            connection)"
   ]
  },
  {
   "cell_type": "markdown",
   "id": "5ebc4d95-640e-4093-9ad2-1b404ab64d37",
   "metadata": {},
   "source": [
    "#### E. Insert a new title for an author. Remember that the book must have an entry in the author_ISBN table and an entry in the titles table."
   ]
  },
  {
   "cell_type": "code",
   "execution_count": 10,
   "id": "a913c48e-024c-421b-9bbe-efa200b8a075",
   "metadata": {},
   "outputs": [],
   "source": [
    "#Reuse the cursor from Part D\n",
    "#Insert statement into author_ISBN table\n",
    "cursor = cursor.execute(\"\"\" INSERT INTO author_ISBN (id, isbn)\n",
    "                        VALUES(6, '0439708184')\"\"\")"
   ]
  },
  {
   "cell_type": "code",
   "execution_count": 11,
   "id": "bf60d163-2d3d-40d9-ab74-dfcee95b5d9e",
   "metadata": {},
   "outputs": [],
   "source": [
    "#Insert statement into titles table\n",
    "cursor = cursor.execute(\"\"\" INSERT INTO titles (isbn, title, edition, copyright)\n",
    "        VALUES('0439708184', 'Harry Potter and the Philosopher''s Stone', 1, '1998')\"\"\")"
   ]
  },
  {
   "cell_type": "code",
   "execution_count": 12,
   "id": "f9bae802-f224-4833-ac97-4d775e430163",
   "metadata": {},
   "outputs": [
    {
     "data": {
      "text/html": [
       "<div>\n",
       "<style scoped>\n",
       "    .dataframe tbody tr th:only-of-type {\n",
       "        vertical-align: middle;\n",
       "    }\n",
       "\n",
       "    .dataframe tbody tr th {\n",
       "        vertical-align: top;\n",
       "    }\n",
       "\n",
       "    .dataframe thead th {\n",
       "        text-align: right;\n",
       "    }\n",
       "</style>\n",
       "<table border=\"1\" class=\"dataframe\">\n",
       "  <thead>\n",
       "    <tr style=\"text-align: right;\">\n",
       "      <th></th>\n",
       "      <th>title</th>\n",
       "      <th>copyright</th>\n",
       "      <th>isbn</th>\n",
       "      <th>Author ID</th>\n",
       "      <th>Author First</th>\n",
       "      <th>Author Last</th>\n",
       "    </tr>\n",
       "  </thead>\n",
       "  <tbody>\n",
       "    <tr>\n",
       "      <th>0</th>\n",
       "      <td>Harry Potter and the Philosopher's Stone</td>\n",
       "      <td>1998</td>\n",
       "      <td>0439708184</td>\n",
       "      <td>6</td>\n",
       "      <td>J.K.</td>\n",
       "      <td>Rowling</td>\n",
       "    </tr>\n",
       "  </tbody>\n",
       "</table>\n",
       "</div>"
      ],
      "text/plain": [
       "                                      title copyright        isbn  Author ID  \\\n",
       "0  Harry Potter and the Philosopher's Stone      1998  0439708184          6   \n",
       "\n",
       "  Author First Author Last  \n",
       "0         J.K.     Rowling  "
      ]
     },
     "execution_count": 12,
     "metadata": {},
     "output_type": "execute_result"
    }
   ],
   "source": [
    "#Select statement to check what was inserted\n",
    "pd.read_sql(\"\"\"SELECT title, copyright, c.ISBN, a.ID as 'Author ID'\n",
    "            , a.first AS 'Author First', a.last AS 'Author Last'\n",
    "            FROM authors a\n",
    "            INNER JOIN author_ISBN b ON a.ID = b.ID\n",
    "            INNER JOIN titles c ON b.ISBN = c.ISBN\n",
    "            WHERE title LIKE 'Harry%'\n",
    "            ORDER BY title\"\"\",\n",
    "            connection)"
   ]
  },
  {
   "cell_type": "code",
   "execution_count": 13,
   "id": "329f176c-2600-469d-89f3-03870e9afdda",
   "metadata": {},
   "outputs": [],
   "source": [
    "#Close the connection/close the database file\n",
    "connection.close()"
   ]
  }
 ],
 "metadata": {
  "kernelspec": {
   "display_name": "Python 3 (ipykernel)",
   "language": "python",
   "name": "python3"
  },
  "language_info": {
   "codemirror_mode": {
    "name": "ipython",
    "version": 3
   },
   "file_extension": ".py",
   "mimetype": "text/x-python",
   "name": "python",
   "nbconvert_exporter": "python",
   "pygments_lexer": "ipython3",
   "version": "3.9.12"
  }
 },
 "nbformat": 4,
 "nbformat_minor": 5
}
